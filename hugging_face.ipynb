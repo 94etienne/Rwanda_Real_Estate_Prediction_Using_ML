{
 "cells": [
  {
   "cell_type": "code",
   "execution_count": null,
   "id": "fa73de58-ee59-42cb-8deb-07c7192cd667",
   "metadata": {},
   "outputs": [],
   "source": []
  },
  {
   "cell_type": "code",
   "execution_count": 7,
   "id": "7e1190ce-1890-40a0-ac86-e3a6997ed75a",
   "metadata": {},
   "outputs": [
    {
     "name": "stdout",
     "output_type": "stream",
     "text": [
      "Running on local URL:  http://127.0.0.1:7864\n",
      "\n",
      "To create a public link, set `share=True` in `launch()`.\n"
     ]
    },
    {
     "data": {
      "text/html": [
       "<div><iframe src=\"http://127.0.0.1:7864/\" width=\"100%\" height=\"500\" allow=\"autoplay; camera; microphone; clipboard-read; clipboard-write;\" frameborder=\"0\" allowfullscreen></iframe></div>"
      ],
      "text/plain": [
       "<IPython.core.display.HTML object>"
      ]
     },
     "metadata": {},
     "output_type": "display_data"
    },
    {
     "data": {
      "text/plain": []
     },
     "execution_count": 7,
     "metadata": {},
     "output_type": "execute_result"
    },
    {
     "name": "stdout",
     "output_type": "stream",
     "text": [
      "IMPORTANT: You are using gradio version 4.18.0, however version 4.29.0 is available, please upgrade.\n",
      "--------\n"
     ]
    },
    {
     "name": "stderr",
     "output_type": "stream",
     "text": [
      "c:\\Users\\Etienne\\AppData\\Local\\Programs\\Python\\Python311\\Lib\\site-packages\\sklearn\\base.py:465: UserWarning: X does not have valid feature names, but LinearRegression was fitted with feature names\n",
      "  warnings.warn(\n"
     ]
    }
   ],
   "source": [
    "import gradio as gr\n",
    "import pickle\n",
    "import json\n",
    "import numpy as np\n",
    "import pandas as pd\n",
    "\n",
    "# Load model and columns\n",
    "with open(\"model/kigali_model.pickle\", \"rb\") as f:\n",
    "    model = pickle.load(f)\n",
    "\n",
    "with open(\"json/columns.json\", \"r\") as f:\n",
    "    data_columns = json.load(f)[\"data_columns\"]\n",
    "\n",
    "# Define the location and property type mappings\n",
    "location_mapping = {\n",
    "    'gacuriro': 1,\n",
    "    'kacyiru': 2,\n",
    "    'kanombe': 3,\n",
    "    'kibagabaga': 4,\n",
    "    'kicukiro': 5,\n",
    "    'kimironko': 6,\n",
    "    'nyamirambo': 7,\n",
    "    'nyarutarama': 8\n",
    "}\n",
    "\n",
    "property_type_mapping = {\n",
    "    'apartment': 1,\n",
    "    'bungalow': 2,\n",
    "    'house': 3,\n",
    "    'villa': 4\n",
    "}\n",
    "\n",
    "def transform_data(size_sqm, number_of_bedrooms, number_of_bathrooms, number_of_floors, parking_space, location, property_type):\n",
    "    # Prepare the input array\n",
    "    x = np.zeros(len(data_columns))\n",
    "    x[0] = size_sqm\n",
    "    x[1] = number_of_bedrooms\n",
    "    x[2] = number_of_bathrooms\n",
    "    x[3] = number_of_floors\n",
    "    x[4] = parking_space\n",
    "\n",
    "    if location in location_mapping:\n",
    "        loc_index = data_columns.index(location)\n",
    "        x[loc_index] = 1\n",
    "    \n",
    "    if property_type in property_type_mapping:\n",
    "        prop_index = data_columns.index(property_type)\n",
    "        x[prop_index] = 1\n",
    "\n",
    "    return np.array([x])\n",
    "\n",
    "def predict(size_sqm, number_of_bedrooms, number_of_bathrooms, number_of_floors, parking_space, location, property_type):\n",
    "    # Transform input data\n",
    "    input_data_transformed = transform_data(size_sqm, number_of_bedrooms, number_of_bathrooms, number_of_floors, parking_space, location, property_type)\n",
    "    \n",
    "    # Predict using the model\n",
    "    prediction = model.predict(input_data_transformed)\n",
    "    return prediction[0]\n",
    "\n",
    "# Define Gradio interface components\n",
    "inputs = [\n",
    "    gr.Number(label=\"Size (sqm)\", value=0),\n",
    "    gr.Number(label=\"Number of Bedrooms\", value=0),\n",
    "    gr.Number(label=\"Number of Bathrooms\", value=0),\n",
    "    gr.Number(label=\"Number of Floors\", value=0),\n",
    "    gr.Number(label=\"Parking Space\", value=0),\n",
    "    gr.Dropdown(choices=list(location_mapping.keys()), label=\"Location\"),\n",
    "    gr.Dropdown(choices=list(property_type_mapping.keys()), label=\"Property Type\")\n",
    "]\n",
    "\n",
    "outputs = gr.Textbox(label=\"Prediction (FRW)\")\n",
    "\n",
    "# Footer content\n",
    "footer = \"Etienne NTAMBARA @AI_Engineer\"\n",
    "\n",
    "# Launch the interface\n",
    "gr.Interface(\n",
    "    fn=predict,\n",
    "    inputs=inputs,\n",
    "    outputs=outputs,\n",
    "    title=\"Property Price Prediction\",\n",
    "    description=\"Enter property details to get the price prediction.\",\n",
    "    article=footer\n",
    ").launch()\n"
   ]
  },
  {
   "cell_type": "code",
   "execution_count": null,
   "id": "8b47c1bc-e980-4a56-abd1-a601eee77ecc",
   "metadata": {},
   "outputs": [],
   "source": []
  }
 ],
 "metadata": {
  "kernelspec": {
   "display_name": "Python 3",
   "language": "python",
   "name": "python3"
  },
  "language_info": {
   "codemirror_mode": {
    "name": "ipython",
    "version": 3
   },
   "file_extension": ".py",
   "mimetype": "text/x-python",
   "name": "python",
   "nbconvert_exporter": "python",
   "pygments_lexer": "ipython3",
   "version": "3.11.4"
  }
 },
 "nbformat": 4,
 "nbformat_minor": 5
}
